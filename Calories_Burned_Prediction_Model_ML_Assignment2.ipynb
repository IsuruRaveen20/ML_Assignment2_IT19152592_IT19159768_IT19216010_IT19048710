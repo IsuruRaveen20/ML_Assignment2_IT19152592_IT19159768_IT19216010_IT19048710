{
 "cells": [
  {
   "cell_type": "markdown",
   "metadata": {
    "id": "gDsf9W4at_la"
   },
   "source": [
    "# Calories Burned Prediction"
   ]
  },
  {
   "cell_type": "markdown",
   "metadata": {
    "id": "FQEuVrZauX9H"
   },
   "source": [
    "# **Libraries**"
   ]
  },
  {
   "cell_type": "code",
   "execution_count": 2,
   "metadata": {
    "id": "40K5SU6TZtul"
   },
   "outputs": [
    {
     "ename": "ModuleNotFoundError",
     "evalue": "No module named 'xgboost'",
     "output_type": "error",
     "traceback": [
      "\u001b[1;31m---------------------------------------------------------------------------\u001b[0m",
      "\u001b[1;31mModuleNotFoundError\u001b[0m                       Traceback (most recent call last)",
      "\u001b[1;32m<ipython-input-2-3eb2a5bc49a6>\u001b[0m in \u001b[0;36m<module>\u001b[1;34m\u001b[0m\n\u001b[0;32m      6\u001b[0m \u001b[1;32mfrom\u001b[0m \u001b[0msklearn\u001b[0m \u001b[1;32mimport\u001b[0m \u001b[0mmetrics\u001b[0m\u001b[1;33m\u001b[0m\u001b[1;33m\u001b[0m\u001b[0m\n\u001b[0;32m      7\u001b[0m \u001b[1;32mfrom\u001b[0m \u001b[0msklearn\u001b[0m\u001b[1;33m.\u001b[0m\u001b[0mmodel_selection\u001b[0m \u001b[1;32mimport\u001b[0m \u001b[0mtrain_test_split\u001b[0m\u001b[1;33m\u001b[0m\u001b[1;33m\u001b[0m\u001b[0m\n\u001b[1;32m----> 8\u001b[1;33m \u001b[1;32mfrom\u001b[0m \u001b[0mxgboost\u001b[0m \u001b[1;32mimport\u001b[0m \u001b[0mXGBRegressor\u001b[0m\u001b[1;33m\u001b[0m\u001b[1;33m\u001b[0m\u001b[0m\n\u001b[0m",
      "\u001b[1;31mModuleNotFoundError\u001b[0m: No module named 'xgboost'"
     ]
    }
   ],
   "source": [
    "#importing libraries\n",
    "import numpy as np\n",
    "import pandas as pd\n",
    "import seaborn as sns\n",
    "import matplotlib.pyplot as plt\n",
    "from sklearn import metrics\n",
    "from sklearn.model_selection import train_test_split\n",
    "from xgboost import XGBRegressor"
   ]
  },
  {
   "cell_type": "markdown",
   "metadata": {
    "id": "Hv2Up5ALun1D"
   },
   "source": [
    "# **Dataset**"
   ]
  },
  {
   "cell_type": "markdown",
   "metadata": {
    "id": "gQlPDRvfbcPh"
   },
   "source": [
    "Data Collection and Preprocessing"
   ]
  },
  {
   "cell_type": "code",
   "execution_count": null,
   "metadata": {
    "id": "a4VTqQvZbrsM"
   },
   "outputs": [],
   "source": [
    "#load the calories dataset from csv file into the dataframe \n",
    "caloroies_df = pd.read_csv('calories.csv')"
   ]
  },
  {
   "cell_type": "code",
   "execution_count": null,
   "metadata": {
    "id": "_G5NqN51eVgE"
   },
   "outputs": [],
   "source": [
    "#load the exercise dataset from csv file into the dataframe \n",
    "exercise_df = pd.read_csv('exercise.csv')"
   ]
  },
  {
   "cell_type": "code",
   "execution_count": null,
   "metadata": {
    "colab": {
     "base_uri": "https://localhost:8080/",
     "height": 363
    },
    "id": "wH8e_-f6dF9L",
    "outputId": "dc95f22d-7406-4e33-bc6a-7b26319ae9b7"
   },
   "outputs": [],
   "source": [
    "#print first 10 rows from the loaded dataset - Calories\n",
    "caloroies_df.head(10)"
   ]
  },
  {
   "cell_type": "code",
   "execution_count": null,
   "metadata": {
    "colab": {
     "base_uri": "https://localhost:8080/",
     "height": 363
    },
    "id": "lC4IjmXufQFR",
    "outputId": "91ff4b9c-dd71-4c65-c11e-a8c819900655"
   },
   "outputs": [],
   "source": [
    "#print first 10 rows from the loaded dataset - Exericse\n",
    "exercise_df.head(10)"
   ]
  },
  {
   "cell_type": "markdown",
   "metadata": {
    "id": "rkTTLVYDfudL"
   },
   "source": [
    "**Combine Above 2 Dataframes into one dataframe**"
   ]
  },
  {
   "cell_type": "code",
   "execution_count": null,
   "metadata": {
    "id": "PkFUIr1Ef6WH"
   },
   "outputs": [],
   "source": [
    "combined_df = pd.concat([exercise_df, caloroies_df['Calories']], axis=1)"
   ]
  },
  {
   "cell_type": "code",
   "execution_count": null,
   "metadata": {
    "colab": {
     "base_uri": "https://localhost:8080/",
     "height": 676
    },
    "id": "vE7Ni_G-icTT",
    "outputId": "b4783209-dfeb-4592-e58e-dd700dd7580c"
   },
   "outputs": [],
   "source": [
    "#print first 20 rows from the loaded dataset - combined dataframe\n",
    "combined_df.head(20)"
   ]
  },
  {
   "cell_type": "markdown",
   "metadata": {
    "id": "gDixHVJli6ms"
   },
   "source": [
    "Count the Column and rows in Combined dataframe"
   ]
  },
  {
   "cell_type": "code",
   "execution_count": null,
   "metadata": {
    "colab": {
     "base_uri": "https://localhost:8080/"
    },
    "id": "8R-eZLa3itOm",
    "outputId": "1ccf89bd-41a8-460d-88ee-b88ec21e07d9"
   },
   "outputs": [],
   "source": [
    "#count the columns and rows  \n",
    "combined_df.shape"
   ]
  },
  {
   "cell_type": "code",
   "execution_count": null,
   "metadata": {
    "colab": {
     "base_uri": "https://localhost:8080/"
    },
    "id": "bLFFvYzG4tK8",
    "outputId": "ceb0e2fd-5500-4ff3-93b0-717bc080595f"
   },
   "outputs": [],
   "source": [
    "#Display all the data types \n",
    "combined_df.dtypes"
   ]
  },
  {
   "cell_type": "code",
   "execution_count": null,
   "metadata": {
    "colab": {
     "base_uri": "https://localhost:8080/"
    },
    "id": "AT2iw23q_lnR",
    "outputId": "5b22bb7f-ed3a-4365-b0a5-ebcd0a55be5d"
   },
   "outputs": [],
   "source": [
    "#Display all information about combined data frame\n",
    "combined_df.info()"
   ]
  },
  {
   "cell_type": "code",
   "execution_count": null,
   "metadata": {
    "colab": {
     "base_uri": "https://localhost:8080/"
    },
    "id": "m-24b4v1BPFz",
    "outputId": "b57af932-3a0c-4ec9-c56e-2cd5562cb843"
   },
   "outputs": [],
   "source": [
    "# checking for missing values\n",
    "combined_df.isnull().sum()"
   ]
  },
  {
   "cell_type": "markdown",
   "metadata": {
    "id": "GhvPMBe7BcSy"
   },
   "source": [
    "# **Data Analyze & Exploration**"
   ]
  },
  {
   "cell_type": "code",
   "execution_count": null,
   "metadata": {
    "colab": {
     "base_uri": "https://localhost:8080/",
     "height": 300
    },
    "id": "QiTx2wXnBb4T",
    "outputId": "cc3428bc-e5d9-498a-ac4d-3b9e4c67043b"
   },
   "outputs": [],
   "source": [
    "# Display measuers of the combined dataframe \n",
    "combined_df.describe()"
   ]
  },
  {
   "cell_type": "markdown",
   "metadata": {
    "id": "cQApZFlZCIyM"
   },
   "source": [
    "# **Data Visualizing**\n"
   ]
  },
  {
   "cell_type": "code",
   "execution_count": null,
   "metadata": {
    "id": "Jei5X85WCLSA"
   },
   "outputs": [],
   "source": [
    "sns.set()"
   ]
  },
  {
   "cell_type": "code",
   "execution_count": null,
   "metadata": {
    "colab": {
     "base_uri": "https://localhost:8080/",
     "height": 357
    },
    "id": "TZ81gYbDDZ3U",
    "outputId": "a307b0a7-c4f7-416c-d1c7-c87c4accbd32"
   },
   "outputs": [],
   "source": [
    "# Plot the Calories column using count plot\n",
    "sns.countplot(combined_df['Calories'])"
   ]
  },
  {
   "cell_type": "code",
   "execution_count": null,
   "metadata": {
    "colab": {
     "base_uri": "https://localhost:8080/"
    },
    "id": "nZrDsAe-XQTs",
    "outputId": "c93e8715-e74e-47e1-c96d-4d95e0b73cd1"
   },
   "outputs": [],
   "source": [
    "\n",
    "categorize_data = combined_df.columns[combined_df.dtypes == object]\n",
    "categorize_data"
   ]
  },
  {
   "cell_type": "code",
   "execution_count": null,
   "metadata": {
    "colab": {
     "base_uri": "https://localhost:8080/",
     "height": 301
    },
    "id": "qEMLC4nMXXSK",
    "outputId": "ba403338-42bc-4f2c-ed75-5b3f610eb5b9"
   },
   "outputs": [],
   "source": [
    "#plot Gender column\n",
    "combined_Data =combined_df.copy()\n",
    "for col in categorize_data:\n",
    "    \n",
    "    plt.title(col, fontsize=12, fontweight=\"bold\")\n",
    "    sns.countplot(x=col, data=combined_Data)\n",
    "    plt.show()"
   ]
  },
  {
   "cell_type": "code",
   "execution_count": null,
   "metadata": {
    "colab": {
     "base_uri": "https://localhost:8080/",
     "height": 382
    },
    "id": "M_k54qp_ElaP",
    "outputId": "b79f124b-fa1b-4934-b9a3-22fe280b3ab0"
   },
   "outputs": [],
   "source": [
    "# Getting the distribution of \"Age\" column\n",
    "# plt.plot(combined_df['Age'])\n",
    "sns.displot(combined_df['Age'])"
   ]
  },
  {
   "cell_type": "code",
   "execution_count": null,
   "metadata": {
    "colab": {
     "base_uri": "https://localhost:8080/",
     "height": 357
    },
    "id": "hVHQ_lfGFP_h",
    "outputId": "eea7827d-1849-4ec2-f614-44aa6727b3ba"
   },
   "outputs": [],
   "source": [
    "# Getting the distribution of \"Height\" column\n",
    "sns.distplot(combined_df['Height'])"
   ]
  },
  {
   "cell_type": "code",
   "execution_count": null,
   "metadata": {
    "colab": {
     "base_uri": "https://localhost:8080/",
     "height": 357
    },
    "id": "11ZIpnCxFU7a",
    "outputId": "e2706c98-9a7e-4b70-d7a3-c6c666893240"
   },
   "outputs": [],
   "source": [
    "# Getting the distribution of \"Weight\" column\n",
    "sns.distplot(combined_df['Weight'])"
   ]
  },
  {
   "cell_type": "code",
   "execution_count": null,
   "metadata": {
    "colab": {
     "base_uri": "https://localhost:8080/",
     "height": 358
    },
    "id": "_ndhR6PcFhTg",
    "outputId": "a6703639-3f2d-4872-bf2c-ce716dcce2bb"
   },
   "outputs": [],
   "source": [
    "# Getting the distribution of \"Weight\" column\n",
    "sns.distplot(combined_df['Duration'])"
   ]
  },
  {
   "cell_type": "code",
   "execution_count": null,
   "metadata": {
    "colab": {
     "base_uri": "https://localhost:8080/",
     "height": 357
    },
    "id": "-we_G4PhFuqn",
    "outputId": "e46ea467-6d3f-4e12-9791-31fa5439621b"
   },
   "outputs": [],
   "source": [
    "# Getting the distribution of \"Heart_Rate\" column\n",
    "sns.distplot(combined_df['Heart_Rate'])"
   ]
  },
  {
   "cell_type": "code",
   "execution_count": null,
   "metadata": {
    "colab": {
     "base_uri": "https://localhost:8080/",
     "height": 357
    },
    "id": "eeg2gi0GF0ee",
    "outputId": "95708a08-2c43-40a4-98bb-9ca9e707eb80"
   },
   "outputs": [],
   "source": [
    "# Getting the distribution of \"Body_Temp\" column\n",
    "sns.distplot(combined_df['Body_Temp'])"
   ]
  },
  {
   "cell_type": "code",
   "execution_count": null,
   "metadata": {
    "colab": {
     "base_uri": "https://localhost:8080/",
     "height": 357
    },
    "id": "4Uzt3fwdF5CC",
    "outputId": "50be26ea-7c2e-4fc3-8ef1-bcb014ec70fb"
   },
   "outputs": [],
   "source": [
    "# Getting the distribution of \"Body_Temp\" column\n",
    "sns.distplot(combined_df['Calories'])"
   ]
  },
  {
   "cell_type": "code",
   "execution_count": null,
   "metadata": {
    "id": "Y01gpSp6F8o9"
   },
   "outputs": [],
   "source": [
    "sns.set()"
   ]
  },
  {
   "cell_type": "markdown",
   "metadata": {
    "id": "PxsziJahdkAV"
   },
   "source": [
    "# **Correlation Heatmap**"
   ]
  },
  {
   "cell_type": "markdown",
   "metadata": {
    "id": "uDmnEcDnGNOx"
   },
   "source": [
    "Getting the Correlation in the dataset\n",
    "\n",
    "*   Positive Correlation\n",
    "*   Negative Correlation\n",
    "\n"
   ]
  },
  {
   "cell_type": "code",
   "execution_count": null,
   "metadata": {
    "colab": {
     "base_uri": "https://localhost:8080/",
     "height": 300
    },
    "id": "sFWjGxxAGFCg",
    "outputId": "1b03a52a-49dd-44d0-dafe-788e7be3e93c"
   },
   "outputs": [],
   "source": [
    "combined_df.corr()"
   ]
  },
  {
   "cell_type": "code",
   "execution_count": null,
   "metadata": {
    "colab": {
     "base_uri": "https://localhost:8080/",
     "height": 867
    },
    "id": "SK48NazoGmnd",
    "outputId": "da47d324-1bba-442c-a435-84f411f902a6"
   },
   "outputs": [],
   "source": [
    "# Bulding a heatmap to understand the correlation\n",
    "\n",
    "plt.figure(figsize=(15,15))\n",
    "sns.heatmap(combined_df.corr(), cbar=True, square=True, fmt='.1f', annot=True, annot_kws={'size':10}, cmap='YlGnBu')"
   ]
  },
  {
   "cell_type": "markdown",
   "metadata": {
    "id": "SpSVtWTCHrpA"
   },
   "source": [
    "**Converting the text data into the numerical values**"
   ]
  },
  {
   "cell_type": "code",
   "execution_count": null,
   "metadata": {
    "id": "QDu6Q-hTHonE"
   },
   "outputs": [],
   "source": [
    "#Replace numerical values for the Gender - Male:0 , Female:1\n",
    "combined_df.replace({\"Gender\":{'male':0,'female':1}}, inplace=True)"
   ]
  },
  {
   "cell_type": "code",
   "execution_count": null,
   "metadata": {
    "colab": {
     "base_uri": "https://localhost:8080/",
     "height": 363
    },
    "id": "s2dnr62NIARo",
    "outputId": "a3bb09b2-6971-418a-9fa3-a748a86acf94"
   },
   "outputs": [],
   "source": [
    "#Display the Updated Dataframe \n",
    "combined_df.head(10)"
   ]
  },
  {
   "cell_type": "markdown",
   "metadata": {
    "id": "zpi3bIUFIwus"
   },
   "source": [
    "**Separating features and Target**"
   ]
  },
  {
   "cell_type": "code",
   "execution_count": null,
   "metadata": {
    "id": "KnTBKoeYIl5y"
   },
   "outputs": [],
   "source": [
    "A = combined_df.drop(columns=['User_ID','Calories'], axis=1)\n",
    "B = combined_df['Calories']"
   ]
  },
  {
   "cell_type": "code",
   "execution_count": null,
   "metadata": {
    "colab": {
     "base_uri": "https://localhost:8080/"
    },
    "id": "fd0dP4oNI7NQ",
    "outputId": "437c063c-a363-497a-d7ab-e2301fecf6d2"
   },
   "outputs": [],
   "source": [
    "#Display Dataframe without UserID\n",
    "print(A)"
   ]
  },
  {
   "cell_type": "code",
   "execution_count": null,
   "metadata": {
    "colab": {
     "base_uri": "https://localhost:8080/"
    },
    "id": "QIz7lNOoJK2n",
    "outputId": "2d222df1-1e54-483b-afac-3485ae5669cf"
   },
   "outputs": [],
   "source": [
    "#Display Dataframe only Calories\n",
    "print(B)"
   ]
  },
  {
   "cell_type": "markdown",
   "metadata": {
    "id": "spnq56wAJqs3"
   },
   "source": [
    "**Splitting the data into training data and Test data**"
   ]
  },
  {
   "cell_type": "code",
   "execution_count": null,
   "metadata": {
    "id": "6fm3ID4MJneB"
   },
   "outputs": [],
   "source": [
    "A_train, A_test, B_train, B_test = train_test_split(A, B, test_size=0.2, random_state=2)"
   ]
  },
  {
   "cell_type": "code",
   "execution_count": null,
   "metadata": {
    "colab": {
     "base_uri": "https://localhost:8080/"
    },
    "id": "C0Dj5DhjJ1Id",
    "outputId": "606e57d4-2fd0-4795-9943-b92ee2d5ef3c"
   },
   "outputs": [],
   "source": [
    "print(A.shape, A_train.shape, A_test.shape)"
   ]
  },
  {
   "cell_type": "markdown",
   "metadata": {
    "id": "RjsM2hKxJ7Uv"
   },
   "source": [
    "# **Model Training**"
   ]
  },
  {
   "cell_type": "markdown",
   "metadata": {
    "id": "xHG1bP-TKCRF"
   },
   "source": [
    "XGBoost Regressor"
   ]
  },
  {
   "cell_type": "code",
   "execution_count": null,
   "metadata": {
    "id": "f6DUVYAAJ6um"
   },
   "outputs": [],
   "source": [
    "# load the XGRegressor model\n",
    "regressor_model = XGBRegressor()"
   ]
  },
  {
   "cell_type": "code",
   "execution_count": null,
   "metadata": {
    "colab": {
     "base_uri": "https://localhost:8080/"
    },
    "id": "SALnwtMSKNj1",
    "outputId": "5e589539-9ee6-4d9a-84d8-12610a6adae6"
   },
   "outputs": [],
   "source": [
    "# training the model with A_train\n",
    "regressor_model.fit(A_train, B_train)"
   ]
  },
  {
   "cell_type": "markdown",
   "metadata": {
    "id": "utb0SORDKZI_"
   },
   "source": [
    "# **Evaluating the Model**"
   ]
  },
  {
   "cell_type": "markdown",
   "metadata": {
    "id": "ztvZsZmeKfPl"
   },
   "source": [
    "**Prediction on Test Data**"
   ]
  },
  {
   "cell_type": "code",
   "execution_count": null,
   "metadata": {
    "id": "yL2eES0KKbds"
   },
   "outputs": [],
   "source": [
    "#predict the data by using regressor model\n",
    "test_data_prediction = regressor_model.predict(A_test)"
   ]
  },
  {
   "cell_type": "code",
   "execution_count": null,
   "metadata": {
    "colab": {
     "base_uri": "https://localhost:8080/"
    },
    "id": "iD-iRaXbKiO5",
    "outputId": "1081363c-8387-4dce-a410-4d15c75acc06"
   },
   "outputs": [],
   "source": [
    "print(test_data_prediction)"
   ]
  },
  {
   "cell_type": "markdown",
   "metadata": {
    "id": "BqIAZvgpKqe6"
   },
   "source": [
    "**Mean Absolute Error of the model**"
   ]
  },
  {
   "cell_type": "code",
   "execution_count": null,
   "metadata": {
    "id": "U21TmtnxKpeB"
   },
   "outputs": [],
   "source": [
    "#create mean error by using test and the prediction\n",
    "mean_error = metrics.mean_absolute_error(B_test, test_data_prediction)"
   ]
  },
  {
   "cell_type": "code",
   "execution_count": null,
   "metadata": {
    "colab": {
     "base_uri": "https://localhost:8080/"
    },
    "id": "k8vbtUITKyDh",
    "outputId": "24da9bb4-c134-4a21-c62c-57431d3a8157"
   },
   "outputs": [],
   "source": [
    "print(\"The Mean Absolute Error = \", mean_error)"
   ]
  }
 ],
 "metadata": {
  "colab": {
   "collapsed_sections": [],
   "name": "Calories Burned Prediction Model_ML_Assignment2.ipynb",
   "provenance": []
  },
  "kernelspec": {
   "display_name": "Python 3",
   "language": "python",
   "name": "python3"
  },
  "language_info": {
   "codemirror_mode": {
    "name": "ipython",
    "version": 3
   },
   "file_extension": ".py",
   "mimetype": "text/x-python",
   "name": "python",
   "nbconvert_exporter": "python",
   "pygments_lexer": "ipython3",
   "version": "3.8.8"
  }
 },
 "nbformat": 4,
 "nbformat_minor": 1
}
